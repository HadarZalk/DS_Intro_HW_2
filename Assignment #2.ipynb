{
 "cells": [
  {
   "cell_type": "code",
   "execution_count": null,
   "id": "317883f0",
   "metadata": {},
   "outputs": [],
   "source": [
    "# A.\twrite a function named reverse(sentence, reverse_word) that takes two strings as an input and returns a new string where the first occurrence of reverse_word in the sentence has been reverted (I.e. spelled backwards). \n",
    "# Return type: str. \n"
   ]
  },
  {
   "cell_type": "code",
   "execution_count": 140,
   "id": "17a2020c",
   "metadata": {},
   "outputs": [],
   "source": [
    "def reverse (sentence, reverse_word):\n",
    "    try:\n",
    "        reverse_word = int(reverse_word)\n",
    "        print(\"Invalid Value\")\n",
    "    except ValueError:\n",
    "        temp = reverse_word\n",
    "        if temp in sentence:\n",
    "            temp = temp [::-1]\n",
    "            sentence = sentence.replace(reverse_word,temp,1)\n",
    "            print (sentence)   \n",
    "        else: \n",
    "            print (\"no match word found\")\n",
    "   "
   ]
  },
  {
   "cell_type": "code",
   "execution_count": 141,
   "id": "78322571",
   "metadata": {},
   "outputs": [
    {
     "name": "stdout",
     "output_type": "stream",
     "text": [
      "enter a sentce: I like apples and I also like bananas\n",
      "enter a word you would like to reverse: like\n",
      "I ekil apples and I also like bananas\n"
     ]
    }
   ],
   "source": [
    "#main \n",
    "sentence = input('enter a sentce: ')\n",
    "reverse_word = input('enter a word you would like to reverse: ')\n",
    "\n",
    "reverse (sentence, reverse_word)\n",
    "\n"
   ]
  },
  {
   "cell_type": "code",
   "execution_count": null,
   "id": "f677e3ea",
   "metadata": {},
   "outputs": [],
   "source": [
    "#B.\t Optional Exercise (no grading): Write a function named compute_equation(equation) to compute the equation represented by a string. Return type: int, float, str (errors must be str).\n"
   ]
  },
  {
   "cell_type": "code",
   "execution_count": 201,
   "id": "09c28997",
   "metadata": {},
   "outputs": [
    {
     "name": "stdout",
     "output_type": "stream",
     "text": [
      "Requirement already satisfied: regex in c:\\users\\hadar\\anaconda3\\lib\\site-packages (2021.8.3)\n"
     ]
    }
   ],
   "source": [
    "!pip install regex\n",
    "import re"
   ]
  },
  {
   "cell_type": "code",
   "execution_count": 249,
   "id": "41a7e78d",
   "metadata": {},
   "outputs": [],
   "source": [
    " \n",
    "def compute_equation (equation):\n",
    "    regex = re.compile('[*()<>/]')\n",
    "    if (regex.search(equation) == None):\n",
    "        print (\"invalid input detected\")\n",
    "    elif \"^\" in equation:\n",
    "        print (\"invalid input detected\")\n",
    "    else:\n",
    "        print (int(x))\n",
    "\n",
    "\n",
    "        \n",
    "        \n",
    "\n",
    "     \n",
    "    "
   ]
  },
  {
   "cell_type": "code",
   "execution_count": 250,
   "id": "03216cac",
   "metadata": {},
   "outputs": [
    {
     "name": "stdout",
     "output_type": "stream",
     "text": [
      "invalid input detected\n"
     ]
    }
   ],
   "source": [
    "compute_equation (\"5*2+1-6^5+0.5\") "
   ]
  }
 ],
 "metadata": {
  "kernelspec": {
   "display_name": "Python 3 (ipykernel)",
   "language": "python",
   "name": "python3"
  },
  "language_info": {
   "codemirror_mode": {
    "name": "ipython",
    "version": 3
   },
   "file_extension": ".py",
   "mimetype": "text/x-python",
   "name": "python",
   "nbconvert_exporter": "python",
   "pygments_lexer": "ipython3",
   "version": "3.9.7"
  }
 },
 "nbformat": 4,
 "nbformat_minor": 5
}
